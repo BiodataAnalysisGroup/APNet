{
 "cells": [
  {
   "cell_type": "code",
   "execution_count": 1,
   "id": "b1c19de1-0a99-4967-b891-9092e154af79",
   "metadata": {},
   "outputs": [],
   "source": [
    "import os\n",
    "from scipy import io\n",
    "import anndata as ad"
   ]
  },
  {
   "cell_type": "code",
   "execution_count": 8,
   "id": "d9402ba5-db3b-45c3-969c-9eb94726c9d7",
   "metadata": {},
   "outputs": [],
   "source": [
    "import os\n",
    "from scipy import io\n",
    "import pandas as pd\n",
    "import anndata as ad\n",
    "import numpy as np\n",
    "import shutil\n",
    "\n",
    "def adata_to_seurat_with_embedding(adata_path, output_dir):\n",
    "    # Load AnnData object\n",
    "    adata = ad.read_h5ad(adata_path)\n",
    "    adata = adata.raw.to_adata() if adata.raw else adata  # Use raw data if available\n",
    "\n",
    "    # Create output directory and matrix_files subfolder\n",
    "    matrix_files_dir = os.path.join(output_dir, \"matrix_files\")\n",
    "    os.makedirs(matrix_files_dir, exist_ok=True)\n",
    "    \n",
    "    # Write barcodes\n",
    "    barcodes_path = os.path.join(matrix_files_dir, \"barcodes.tsv\")\n",
    "    with open(barcodes_path, 'w') as f:\n",
    "        for barcode in adata.obs_names:\n",
    "            f.write(barcode + '\\n')\n",
    "    \n",
    "    # Write features\n",
    "    features_path = os.path.join(matrix_files_dir, \"features.tsv\")\n",
    "    with open(features_path, 'w') as f:\n",
    "        for feature in [f\"{x}\\t{x}\\tGene Expression\" for x in adata.var_names]:\n",
    "            f.write(feature + '\\n')\n",
    "    \n",
    "    # Write matrix\n",
    "    matrix_path = os.path.join(matrix_files_dir, \"matrix.mtx\")\n",
    "    io.mmwrite(matrix_path, adata.X.T)\n",
    "    \n",
    "    # Gzip all files in matrix_files\n",
    "    for file in os.listdir(matrix_files_dir):\n",
    "        file_path = os.path.join(matrix_files_dir, file)\n",
    "        shutil.move(file_path, f\"{file_path}.gz\")\n",
    "    \n",
    "    print(f\"Matrix files have been gzipped and saved in {matrix_files_dir}\")\n",
    "\n",
    "    # Export metadata\n",
    "    metadata_path = os.path.join(output_dir, \"metadata.csv\")\n",
    "    adata.obs.to_csv(metadata_path)\n",
    "    \n",
    "    # Create UMAP embedding DataFrame\n",
    "    if \"X_umap\" in adata.obsm:\n",
    "        embedding = adata.obsm[\"X_umap\"]\n",
    "        embedding = np.array(embedding)\n",
    "\n",
    "        row_names = adata.obs_names.to_list()\n",
    "        column_names = [\"umap_1\", \"umap_2\"]\n",
    "\n",
    "        embedding_df = pd.DataFrame(embedding, index=row_names, columns=column_names)\n",
    "\n",
    "        # Save UMAP embedding to CSV\n",
    "        embedding_path = os.path.join(output_dir, \"embedding_umap.csv\")\n",
    "        embedding_df.to_csv(embedding_path)\n",
    "        print(f\"UMAP embedding saved to {embedding_path}\")\n",
    "    else:\n",
    "        print(\"UMAP embedding not found in `adata.obsm`. Skipping embedding export.\")\n",
    "\n",
    "    print(f\"Data exported successfully to {output_dir}\")"
   ]
  },
  {
   "cell_type": "code",
   "execution_count": 9,
   "id": "93c85d6d-4bf1-465a-a2db-f037600ed3f9",
   "metadata": {},
   "outputs": [],
   "source": [
    "# Input file and output directory\n",
    "adata_path = \"stephenson_covid19_apnet.h5ad\"  # e.g., \"example_data.h5ad\"\n",
    "output_dir = \"output_folder\"   # e.g., \"output_folder\""
   ]
  },
  {
   "cell_type": "code",
   "execution_count": 10,
   "id": "d8f00c78-b170-4395-99c2-c44b544b433e",
   "metadata": {},
   "outputs": [
    {
     "name": "stdout",
     "output_type": "stream",
     "text": [
      "Matrix files have been gzipped and saved in output_folder/matrix_files\n",
      "UMAP embedding saved to output_folder/embedding_umap.csv\n",
      "Data exported successfully to output_folder\n"
     ]
    }
   ],
   "source": [
    "adata_to_seurat_with_embedding(adata_path, output_dir)"
   ]
  },
  {
   "cell_type": "code",
   "execution_count": 12,
   "id": "c4c42859-5e8a-47f5-8a9c-1ec57f593be2",
   "metadata": {},
   "outputs": [
    {
     "name": "stdout",
     "output_type": "stream",
     "text": [
      "Absolute path of the output directory: /Users/georgegavriilidis/pertpy/output_folder\n"
     ]
    }
   ],
   "source": [
    "absolute_path = os.path.abspath(output_dir)\n",
    "print(f\"Absolute path of the output directory: {absolute_path}\")"
   ]
  }
 ],
 "metadata": {
  "kernelspec": {
   "display_name": "Python 3 (ipykernel)",
   "language": "python",
   "name": "python3"
  },
  "language_info": {
   "codemirror_mode": {
    "name": "ipython",
    "version": 3
   },
   "file_extension": ".py",
   "mimetype": "text/x-python",
   "name": "python",
   "nbconvert_exporter": "python",
   "pygments_lexer": "ipython3",
   "version": "3.12.2"
  }
 },
 "nbformat": 4,
 "nbformat_minor": 5
}
